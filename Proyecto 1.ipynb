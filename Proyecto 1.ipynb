{
  "nbformat": 4,
  "nbformat_minor": 0,
  "metadata": {
    "colab": {
      "provenance": [],
      "collapsed_sections": [
        "9_HxTwMnfiq9"
      ]
    },
    "kernelspec": {
      "name": "python3",
      "display_name": "Python 3"
    },
    "language_info": {
      "name": "python"
    }
  },
  "cells": [
    {
      "cell_type": "markdown",
      "source": [
        "# Imports"
      ],
      "metadata": {
        "id": "cD-15rVubWP5"
      }
    },
    {
      "cell_type": "code",
      "execution_count": 2,
      "metadata": {
        "id": "JA0_bhG4XFfY"
      },
      "outputs": [],
      "source": [
        "import numpy as np\n",
        "import pandas as pd\n",
        "import matplotlib.pyplot as plt\n",
        "import seaborn as sns\n",
        "import sklearn as scikit_learn"
      ]
    },
    {
      "cell_type": "markdown",
      "source": [
        "# Carga/Slicing de datos"
      ],
      "metadata": {
        "id": "Va5g6WMNbSf4"
      }
    },
    {
      "cell_type": "code",
      "source": [
        "dataset = np.load('proyecto_training_data.npy')\n",
        "trainData = dataset[0:int(len(dataset)*0.8)]\n",
        "testData = dataset[int(len(dataset)*0.8):len(dataset)]\n",
        "\n",
        "dataframe = pd.DataFrame(dataset, columns = ['SalePrice','OverallQual','1stFlrSF', 'TotRmsAbvGrd', 'YearBuilt', 'LotFrontage'])\n",
        "trainDataFrame = pd.DataFrame(trainData, columns = ['SalePrice','OverallQual','1stFlrSF', 'TotRmsAbvGrd', 'YearBuilt', 'LotFrontage'])\n",
        "testDataFrame = pd.DataFrame(testData, columns = ['SalePrice','OverallQual','1stFlrSF', 'TotRmsAbvGrd', 'YearBuilt', 'LotFrontage'])\n",
        "\n",
        "display(dataframe)"
      ],
      "metadata": {
        "colab": {
          "base_uri": "https://localhost:8080/",
          "height": 650
        },
        "id": "cdRs-PTTbHYI",
        "outputId": "5c178509-393c-4dbb-c8d8-e853768feee6"
      },
      "execution_count": 21,
      "outputs": [
        {
          "output_type": "display_data",
          "data": {
            "text/plain": [
              "      SalePrice  OverallQual  1stFlrSF  TotRmsAbvGrd  YearBuilt  LotFrontage\n",
              "0      208500.0          7.0     856.0           8.0     2003.0         65.0\n",
              "1      181500.0          6.0    1262.0           6.0     1976.0         80.0\n",
              "2      223500.0          7.0     920.0           6.0     2001.0         68.0\n",
              "3      140000.0          7.0     961.0           7.0     1915.0         60.0\n",
              "4      250000.0          8.0    1145.0           9.0     2000.0         84.0\n",
              "...         ...          ...       ...           ...        ...          ...\n",
              "1455   175000.0          6.0     953.0           7.0     1999.0         62.0\n",
              "1456   210000.0          6.0    2073.0           7.0     1978.0         85.0\n",
              "1457   266500.0          7.0    1188.0           9.0     1941.0         66.0\n",
              "1458   142125.0          5.0    1078.0           5.0     1950.0         68.0\n",
              "1459   147500.0          5.0    1256.0           6.0     1965.0         75.0\n",
              "\n",
              "[1460 rows x 6 columns]"
            ],
            "text/html": [
              "\n",
              "  <div id=\"df-152ef3db-3f4f-40b4-9f93-055e5fe7dfbe\">\n",
              "    <div class=\"colab-df-container\">\n",
              "      <div>\n",
              "<style scoped>\n",
              "    .dataframe tbody tr th:only-of-type {\n",
              "        vertical-align: middle;\n",
              "    }\n",
              "\n",
              "    .dataframe tbody tr th {\n",
              "        vertical-align: top;\n",
              "    }\n",
              "\n",
              "    .dataframe thead th {\n",
              "        text-align: right;\n",
              "    }\n",
              "</style>\n",
              "<table border=\"1\" class=\"dataframe\">\n",
              "  <thead>\n",
              "    <tr style=\"text-align: right;\">\n",
              "      <th></th>\n",
              "      <th>SalePrice</th>\n",
              "      <th>OverallQual</th>\n",
              "      <th>1stFlrSF</th>\n",
              "      <th>TotRmsAbvGrd</th>\n",
              "      <th>YearBuilt</th>\n",
              "      <th>LotFrontage</th>\n",
              "    </tr>\n",
              "  </thead>\n",
              "  <tbody>\n",
              "    <tr>\n",
              "      <th>0</th>\n",
              "      <td>208500.0</td>\n",
              "      <td>7.0</td>\n",
              "      <td>856.0</td>\n",
              "      <td>8.0</td>\n",
              "      <td>2003.0</td>\n",
              "      <td>65.0</td>\n",
              "    </tr>\n",
              "    <tr>\n",
              "      <th>1</th>\n",
              "      <td>181500.0</td>\n",
              "      <td>6.0</td>\n",
              "      <td>1262.0</td>\n",
              "      <td>6.0</td>\n",
              "      <td>1976.0</td>\n",
              "      <td>80.0</td>\n",
              "    </tr>\n",
              "    <tr>\n",
              "      <th>2</th>\n",
              "      <td>223500.0</td>\n",
              "      <td>7.0</td>\n",
              "      <td>920.0</td>\n",
              "      <td>6.0</td>\n",
              "      <td>2001.0</td>\n",
              "      <td>68.0</td>\n",
              "    </tr>\n",
              "    <tr>\n",
              "      <th>3</th>\n",
              "      <td>140000.0</td>\n",
              "      <td>7.0</td>\n",
              "      <td>961.0</td>\n",
              "      <td>7.0</td>\n",
              "      <td>1915.0</td>\n",
              "      <td>60.0</td>\n",
              "    </tr>\n",
              "    <tr>\n",
              "      <th>4</th>\n",
              "      <td>250000.0</td>\n",
              "      <td>8.0</td>\n",
              "      <td>1145.0</td>\n",
              "      <td>9.0</td>\n",
              "      <td>2000.0</td>\n",
              "      <td>84.0</td>\n",
              "    </tr>\n",
              "    <tr>\n",
              "      <th>...</th>\n",
              "      <td>...</td>\n",
              "      <td>...</td>\n",
              "      <td>...</td>\n",
              "      <td>...</td>\n",
              "      <td>...</td>\n",
              "      <td>...</td>\n",
              "    </tr>\n",
              "    <tr>\n",
              "      <th>1455</th>\n",
              "      <td>175000.0</td>\n",
              "      <td>6.0</td>\n",
              "      <td>953.0</td>\n",
              "      <td>7.0</td>\n",
              "      <td>1999.0</td>\n",
              "      <td>62.0</td>\n",
              "    </tr>\n",
              "    <tr>\n",
              "      <th>1456</th>\n",
              "      <td>210000.0</td>\n",
              "      <td>6.0</td>\n",
              "      <td>2073.0</td>\n",
              "      <td>7.0</td>\n",
              "      <td>1978.0</td>\n",
              "      <td>85.0</td>\n",
              "    </tr>\n",
              "    <tr>\n",
              "      <th>1457</th>\n",
              "      <td>266500.0</td>\n",
              "      <td>7.0</td>\n",
              "      <td>1188.0</td>\n",
              "      <td>9.0</td>\n",
              "      <td>1941.0</td>\n",
              "      <td>66.0</td>\n",
              "    </tr>\n",
              "    <tr>\n",
              "      <th>1458</th>\n",
              "      <td>142125.0</td>\n",
              "      <td>5.0</td>\n",
              "      <td>1078.0</td>\n",
              "      <td>5.0</td>\n",
              "      <td>1950.0</td>\n",
              "      <td>68.0</td>\n",
              "    </tr>\n",
              "    <tr>\n",
              "      <th>1459</th>\n",
              "      <td>147500.0</td>\n",
              "      <td>5.0</td>\n",
              "      <td>1256.0</td>\n",
              "      <td>6.0</td>\n",
              "      <td>1965.0</td>\n",
              "      <td>75.0</td>\n",
              "    </tr>\n",
              "  </tbody>\n",
              "</table>\n",
              "<p>1460 rows × 6 columns</p>\n",
              "</div>\n",
              "      <button class=\"colab-df-convert\" onclick=\"convertToInteractive('df-152ef3db-3f4f-40b4-9f93-055e5fe7dfbe')\"\n",
              "              title=\"Convert this dataframe to an interactive table.\"\n",
              "              style=\"display:none;\">\n",
              "        \n",
              "  <svg xmlns=\"http://www.w3.org/2000/svg\" height=\"24px\"viewBox=\"0 0 24 24\"\n",
              "       width=\"24px\">\n",
              "    <path d=\"M0 0h24v24H0V0z\" fill=\"none\"/>\n",
              "    <path d=\"M18.56 5.44l.94 2.06.94-2.06 2.06-.94-2.06-.94-.94-2.06-.94 2.06-2.06.94zm-11 1L8.5 8.5l.94-2.06 2.06-.94-2.06-.94L8.5 2.5l-.94 2.06-2.06.94zm10 10l.94 2.06.94-2.06 2.06-.94-2.06-.94-.94-2.06-.94 2.06-2.06.94z\"/><path d=\"M17.41 7.96l-1.37-1.37c-.4-.4-.92-.59-1.43-.59-.52 0-1.04.2-1.43.59L10.3 9.45l-7.72 7.72c-.78.78-.78 2.05 0 2.83L4 21.41c.39.39.9.59 1.41.59.51 0 1.02-.2 1.41-.59l7.78-7.78 2.81-2.81c.8-.78.8-2.07 0-2.86zM5.41 20L4 18.59l7.72-7.72 1.47 1.35L5.41 20z\"/>\n",
              "  </svg>\n",
              "      </button>\n",
              "      \n",
              "  <style>\n",
              "    .colab-df-container {\n",
              "      display:flex;\n",
              "      flex-wrap:wrap;\n",
              "      gap: 12px;\n",
              "    }\n",
              "\n",
              "    .colab-df-convert {\n",
              "      background-color: #E8F0FE;\n",
              "      border: none;\n",
              "      border-radius: 50%;\n",
              "      cursor: pointer;\n",
              "      display: none;\n",
              "      fill: #1967D2;\n",
              "      height: 32px;\n",
              "      padding: 0 0 0 0;\n",
              "      width: 32px;\n",
              "    }\n",
              "\n",
              "    .colab-df-convert:hover {\n",
              "      background-color: #E2EBFA;\n",
              "      box-shadow: 0px 1px 2px rgba(60, 64, 67, 0.3), 0px 1px 3px 1px rgba(60, 64, 67, 0.15);\n",
              "      fill: #174EA6;\n",
              "    }\n",
              "\n",
              "    [theme=dark] .colab-df-convert {\n",
              "      background-color: #3B4455;\n",
              "      fill: #D2E3FC;\n",
              "    }\n",
              "\n",
              "    [theme=dark] .colab-df-convert:hover {\n",
              "      background-color: #434B5C;\n",
              "      box-shadow: 0px 1px 3px 1px rgba(0, 0, 0, 0.15);\n",
              "      filter: drop-shadow(0px 1px 2px rgba(0, 0, 0, 0.3));\n",
              "      fill: #FFFFFF;\n",
              "    }\n",
              "  </style>\n",
              "\n",
              "      <script>\n",
              "        const buttonEl =\n",
              "          document.querySelector('#df-152ef3db-3f4f-40b4-9f93-055e5fe7dfbe button.colab-df-convert');\n",
              "        buttonEl.style.display =\n",
              "          google.colab.kernel.accessAllowed ? 'block' : 'none';\n",
              "\n",
              "        async function convertToInteractive(key) {\n",
              "          const element = document.querySelector('#df-152ef3db-3f4f-40b4-9f93-055e5fe7dfbe');\n",
              "          const dataTable =\n",
              "            await google.colab.kernel.invokeFunction('convertToInteractive',\n",
              "                                                     [key], {});\n",
              "          if (!dataTable) return;\n",
              "\n",
              "          const docLinkHtml = 'Like what you see? Visit the ' +\n",
              "            '<a target=\"_blank\" href=https://colab.research.google.com/notebooks/data_table.ipynb>data table notebook</a>'\n",
              "            + ' to learn more about interactive tables.';\n",
              "          element.innerHTML = '';\n",
              "          dataTable['output_type'] = 'display_data';\n",
              "          await google.colab.output.renderOutput(dataTable, element);\n",
              "          const docLink = document.createElement('div');\n",
              "          docLink.innerHTML = docLinkHtml;\n",
              "          element.appendChild(docLink);\n",
              "        }\n",
              "      </script>\n",
              "    </div>\n",
              "  </div>\n",
              "  "
            ]
          },
          "metadata": {}
        }
      ]
    },
    {
      "cell_type": "code",
      "source": [
        "cols_na = [col for col in dataframe if dataframe[col].isnull().mean()]\n",
        "for col in cols_na:\n",
        "  print(f'''{col}-{dataframe[col].isnull().mean()}''')\n",
        "print(f'''\\n{cols_na}\\n''')\n",
        "print(dataframe[cols_na].dtypes)"
      ],
      "metadata": {
        "colab": {
          "base_uri": "https://localhost:8080/"
        },
        "id": "zL6Z822NhvCb",
        "outputId": "e2dddcff-d699-436b-974d-1c707a696dbf"
      },
      "execution_count": 41,
      "outputs": [
        {
          "output_type": "stream",
          "name": "stdout",
          "text": [
            "LotFrontage-0.1773972602739726\n",
            "\n",
            "['LotFrontage']\n",
            "\n",
            "LotFrontage    float64\n",
            "dtype: object\n"
          ]
        }
      ]
    },
    {
      "cell_type": "code",
      "source": [
        "dataframe['LotFrontageMean'] = np.round(dataframe['LotFrontage'].fillna(dataframe['LotFrontage'].mean()))\n",
        "dataframe['LotFrontageMedian'] = np.round(dataframe['LotFrontage'].fillna(dataframe['LotFrontage'].median()))\n"
      ],
      "metadata": {
        "id": "qxxyF_vKtvry"
      },
      "execution_count": 42,
      "outputs": []
    },
    {
      "cell_type": "code",
      "source": [
        "fig = plt.figure()\n",
        "ax = fig.add_subplot(111)\n",
        "\n",
        "dataframe['LotFrontage'].plot.density(color='red', label='LotFrontage')\n",
        "dataframe['LotFrontageMean'].plot.density(color='blue', label='LotFrontageMean')\n",
        "dataframe['LotFrontageMedian'].plot.density(color='green', label='LotFrontageMedian')\n",
        "ax.legend()\n",
        "plt.show()"
      ],
      "metadata": {
        "colab": {
          "base_uri": "https://localhost:8080/",
          "height": 430
        },
        "id": "9rqi-TR9vVog",
        "outputId": "7209d34a-37d5-4718-e34b-7c11c49a2d59"
      },
      "execution_count": 44,
      "outputs": [
        {
          "output_type": "display_data",
          "data": {
            "text/plain": [
              "<Figure size 640x480 with 1 Axes>"
            ],
            "image/png": "[encoded data removed]"
          },
          "metadata": {}
        }
      ]
    },
    {
      "cell_type": "markdown",
      "source": [
        "# Analisis Exploratorio por Variable\n"
      ],
      "metadata": {
        "id": "lLw-sTTdfCg3"
      }
    },
    {
      "cell_type": "markdown",
      "source": [
        "#### Sale Price"
      ],
      "metadata": {
        "id": "9_HxTwMnfiq9"
      }
    },
    {
      "cell_type": "code",
      "source": [
        "print(f'''Media: {dataframe['SalePrice'].mean()}''')\n",
        "print(f'''Valor Maximo: {dataframe['SalePrice'].max()}''')\n",
        "print(f'''Valor Minimo: {dataframe['SalePrice'].min()}''')\n",
        "print(f'''Rango: {dataframe['SalePrice'].max() - dataframe['SalePrice'].min()}''')\n",
        "print(f'''Desviacion Estandar: {dataframe['SalePrice'].std()}''')"
      ],
      "metadata": {
        "colab": {
          "base_uri": "https://localhost:8080/"
        },
        "id": "zwcx1g1kdYxo",
        "outputId": "ddd209d7-557c-454f-e3ea-ffb00ec4c253"
      },
      "execution_count": 45,
      "outputs": [
        {
          "output_type": "stream",
          "name": "stdout",
          "text": [
            "Media: 180921.19589041095\n",
            "Valor Maximo: 755000.0\n",
            "Valor Minimo: 34900.0\n",
            "Rango: 720100.0\n",
            "Desviacion Estandar: 79442.50288288662\n"
          ]
        }
      ]
    },
    {
      "cell_type": "markdown",
      "source": [
        "#### Overall Quality"
      ],
      "metadata": {
        "id": "C2dqLxO6fr5D"
      }
    },
    {
      "cell_type": "code",
      "source": [
        "print(f'''Media: {dataframe['OverallQual'].mean()}''')\n",
        "print(f'''Valor Maximo: {dataframe['OverallQual'].max()}''')\n",
        "print(f'''Valor Minimo: {dataframe['OverallQual'].min()}''')\n",
        "print(f'''Rango: {dataframe['OverallQual'].max() - dataframe['OverallQual'].min()}''')\n",
        "print(f'''Desviacion Estandar: {dataframe['OverallQual'].std()}''')"
      ],
      "metadata": {
        "colab": {
          "base_uri": "https://localhost:8080/"
        },
        "id": "xBjH8o6Qw5Xu",
        "outputId": "8d485fc1-18be-4f65-d6ca-5bcae72b9bb7"
      },
      "execution_count": 46,
      "outputs": [
        {
          "output_type": "stream",
          "name": "stdout",
          "text": [
            "Media: 6.0993150684931505\n",
            "Valor Maximo: 10.0\n",
            "Valor Minimo: 1.0\n",
            "Rango: 9.0\n",
            "Desviacion Estandar: 1.3829965467415934\n"
          ]
        }
      ]
    },
    {
      "cell_type": "markdown",
      "source": [
        "#### First Floor square feet"
      ],
      "metadata": {
        "id": "oAQ8hv7GfsM7"
      }
    },
    {
      "cell_type": "code",
      "source": [
        "print(f'''Media: {dataframe['1stFlrSF'].mean()}''')\n",
        "print(f'''Valor Maximo: {dataframe['1stFlrSF'].max()}''')\n",
        "print(f'''Valor Minimo: {dataframe['1stFlrSF'].min()}''')\n",
        "print(f'''Rango: {dataframe['1stFlrSF'].max() - dataframe['1stFlrSF'].min()}''')\n",
        "print(f'''Desviacion Estandar: {dataframe['1stFlrSF'].std()}''')"
      ],
      "metadata": {
        "colab": {
          "base_uri": "https://localhost:8080/"
        },
        "id": "yv1ZqncEw6L9",
        "outputId": "b1848626-644d-4543-e3ec-4bd60d99f6b2"
      },
      "execution_count": 47,
      "outputs": [
        {
          "output_type": "stream",
          "name": "stdout",
          "text": [
            "Media: 1162.626712328767\n",
            "Valor Maximo: 4692.0\n",
            "Valor Minimo: 334.0\n",
            "Rango: 4358.0\n",
            "Desviacion Estandar: 386.5877380410744\n"
          ]
        }
      ]
    },
    {
      "cell_type": "markdown",
      "source": [
        "#### Total rooms above grade"
      ],
      "metadata": {
        "id": "e3qvY7jQfsUD"
      }
    },
    {
      "cell_type": "code",
      "source": [
        "print(f'''Media: {dataframe['TotRmsAbvGrd'].mean()}''')\n",
        "print(f'''Valor Maximo: {dataframe['TotRmsAbvGrd'].max()}''')\n",
        "print(f'''Valor Minimo: {dataframe['TotRmsAbvGrd'].min()}''')\n",
        "print(f'''Rango: {dataframe['TotRmsAbvGrd'].max() - dataframe['TotRmsAbvGrd'].min()}''')\n",
        "print(f'''Desviacion Estandar: {dataframe['TotRmsAbvGrd'].std()}''')"
      ],
      "metadata": {
        "colab": {
          "base_uri": "https://localhost:8080/"
        },
        "id": "xxCo_7CHw6pp",
        "outputId": "76f1062f-049d-4ca3-955c-2b3b05704b31"
      },
      "execution_count": 48,
      "outputs": [
        {
          "output_type": "stream",
          "name": "stdout",
          "text": [
            "Media: 6.517808219178082\n",
            "Valor Maximo: 14.0\n",
            "Valor Minimo: 2.0\n",
            "Rango: 12.0\n",
            "Desviacion Estandar: 1.6253932905840505\n"
          ]
        }
      ]
    },
    {
      "cell_type": "markdown",
      "source": [
        "#### Year Built"
      ],
      "metadata": {
        "id": "TK6HDKO1fsb1"
      }
    },
    {
      "cell_type": "code",
      "source": [
        "print(f'''Media: {dataframe['YearBuilt'].mean()}''')\n",
        "print(f'''Valor Maximo: {dataframe['YearBuilt'].max()}''')\n",
        "print(f'''Valor Minimo: {dataframe['YearBuilt'].min()}''')\n",
        "print(f'''Rango: {dataframe['YearBuilt'].max() - dataframe['YearBuilt'].min()}''')\n",
        "print(f'''Desviacion Estandar: {dataframe['YearBuilt'].std()}''')"
      ],
      "metadata": {
        "colab": {
          "base_uri": "https://localhost:8080/"
        },
        "id": "sjEGt1hnw7Gt",
        "outputId": "195fc1bd-8929-4486-b1b8-0babcb3a06fa"
      },
      "execution_count": 51,
      "outputs": [
        {
          "output_type": "stream",
          "name": "stdout",
          "text": [
            "Media: 1971.267808219178\n",
            "Valor Maximo: 2010.0\n",
            "Valor Minimo: 1872.0\n",
            "Rango: 138.0\n",
            "Desviacion Estandar: 30.202904042525258\n"
          ]
        }
      ]
    },
    {
      "cell_type": "markdown",
      "source": [
        "#### Lot Frontage"
      ],
      "metadata": {
        "id": "cvWMeZEhfshz"
      }
    },
    {
      "cell_type": "code",
      "source": [
        "print(f'''Media: {dataframe['LotFrontage'].mean()}''')\n",
        "print(f'''Valor Maximo: {dataframe['LotFrontage'].max()}''')\n",
        "print(f'''Valor Minimo: {dataframe['LotFrontage'].min()}''')\n",
        "print(f'''Rango: {dataframe['LotFrontage'].max() - dataframe['LotFrontage'].min()}''')\n",
        "print(f'''Desviacion Estandar: {dataframe['LotFrontage'].std()}''')"
      ],
      "metadata": {
        "colab": {
          "base_uri": "https://localhost:8080/"
        },
        "id": "LWaz1t-gw7mF",
        "outputId": "c6b1f38c-d584-4a86-83e7-e021858e7df2"
      },
      "execution_count": 52,
      "outputs": [
        {
          "output_type": "stream",
          "name": "stdout",
          "text": [
            "Media: 70.04995836802665\n",
            "Valor Maximo: 313.0\n",
            "Valor Minimo: 21.0\n",
            "Rango: 292.0\n",
            "Desviacion Estandar: 24.284751774483208\n"
          ]
        }
      ]
    },
    {
      "cell_type": "markdown",
      "source": [
        "# Histograma por variable"
      ],
      "metadata": {
        "id": "eH8rGfIwxg60"
      }
    },
    {
      "cell_type": "code",
      "source": [
        "sns.histplot(dataframe['SalePrice'])"
      ],
      "metadata": {
        "colab": {
          "base_uri": "https://localhost:8080/",
          "height": 466
        },
        "id": "VlLvZc6cxmWc",
        "outputId": "85b2908e-786d-4355-be78-9f2e1cdffc49"
      },
      "execution_count": 61,
      "outputs": [
        {
          "output_type": "execute_result",
          "data": {
            "text/plain": [
              "<Axes: xlabel='SalePrice', ylabel='Count'>"
            ]
          },
          "metadata": {},
          "execution_count": 61
        },
        {
          "output_type": "display_data",
          "data": {
            "text/plain": [
              "<Figure size 640x480 with 1 Axes>"
            ],
            "image/png": "[encoded data removed]"
          },
          "metadata": {}
        }
      ]
    },
    {
      "cell_type": "code",
      "source": [
        "sns.histplot(dataframe['OverallQual'])"
      ],
      "metadata": {
        "colab": {
          "base_uri": "https://localhost:8080/",
          "height": 466
        },
        "id": "sdUn-nFkzWLD",
        "outputId": "cb8a5710-cf6d-498f-d8a8-8c3c6db11efa"
      },
      "execution_count": 62,
      "outputs": [
        {
          "output_type": "execute_result",
          "data": {
            "text/plain": [
              "<Axes: xlabel='OverallQual', ylabel='Count'>"
            ]
          },
          "metadata": {},
          "execution_count": 62
        },
        {
          "output_type": "display_data",
          "data": {
            "text/plain": [
              "<Figure size 640x480 with 1 Axes>"
            ],
            "image/png": "[encoded data removed]"
          },
          "metadata": {}
        }
      ]
    },
    {
      "cell_type": "code",
      "source": [
        "sns.histplot(dataframe['1stFlrSF'])"
      ],
      "metadata": {
        "colab": {
          "base_uri": "https://localhost:8080/",
          "height": 466
        },
        "id": "GqUIW1_czWZL",
        "outputId": "0350ff27-509c-4a9c-eb03-978fd815d6df"
      },
      "execution_count": 63,
      "outputs": [
        {
          "output_type": "execute_result",
          "data": {
            "text/plain": [
              "<Axes: xlabel='1stFlrSF', ylabel='Count'>"
            ]
          },
          "metadata": {},
          "execution_count": 63
        },
        {
          "output_type": "display_data",
          "data": {
            "text/plain": [
              "<Figure size 640x480 with 1 Axes>"
            ],
            "image/png": "[encoded data removed]"
          },
          "metadata": {}
        }
      ]
    },
    {
      "cell_type": "code",
      "source": [
        "sns.histplot(dataframe['TotRmsAbvGrd'])"
      ],
      "metadata": {
        "colab": {
          "base_uri": "https://localhost:8080/",
          "height": 466
        },
        "id": "4DYiysNlzWko",
        "outputId": "15bb00d2-c39d-4904-e2eb-604217388831"
      },
      "execution_count": 64,
      "outputs": [
        {
          "output_type": "execute_result",
          "data": {
            "text/plain": [
              "<Axes: xlabel='TotRmsAbvGrd', ylabel='Count'>"
            ]
          },
          "metadata": {},
          "execution_count": 64
        },
        {
          "output_type": "display_data",
          "data": {
            "text/plain": [
              "<Figure size 640x480 with 1 Axes>"
            ],
            "image/png": "[encoded data removed]"
          },
          "metadata": {}
        }
      ]
    },
    {
      "cell_type": "code",
      "source": [
        "sns.histplot(dataframe['YearBuilt'])"
      ],
      "metadata": {
        "colab": {
          "base_uri": "https://localhost:8080/",
          "height": 466
        },
        "id": "A7aEL3v7zWqp",
        "outputId": "3ded139f-e9e3-42cb-a8e7-3e57fb1bb8d7"
      },
      "execution_count": 65,
      "outputs": [
        {
          "output_type": "execute_result",
          "data": {
            "text/plain": [
              "<Axes: xlabel='YearBuilt', ylabel='Count'>"
            ]
          },
          "metadata": {},
          "execution_count": 65
        },
        {
          "output_type": "display_data",
          "data": {
            "text/plain": [
              "<Figure size 640x480 with 1 Axes>"
            ],
            "image/png": "[encoded data removed]"
          },
          "metadata": {}
        }
      ]
    },
    {
      "cell_type": "code",
      "source": [
        "sns.histplot(dataframe['LotFrontage'])"
      ],
      "metadata": {
        "colab": {
          "base_uri": "https://localhost:8080/",
          "height": 466
        },
        "id": "fQJBlIsBzWvj",
        "outputId": "b1ca1629-147a-48f0-999b-9165834c319f"
      },
      "execution_count": 66,
      "outputs": [
        {
          "output_type": "execute_result",
          "data": {
            "text/plain": [
              "<Axes: xlabel='LotFrontage', ylabel='Count'>"
            ]
          },
          "metadata": {},
          "execution_count": 66
        },
        {
          "output_type": "display_data",
          "data": {
            "text/plain": [
              "<Figure size 640x480 with 1 Axes>"
            ],
            "image/png": "[encoded data removed]"
          },
          "metadata": {}
        }
      ]
    },
    {
      "cell_type": "markdown",
      "source": [
        "# Correlacion"
      ],
      "metadata": {
        "id": "FAjYrBCh1-TP"
      }
    }
  ]
}